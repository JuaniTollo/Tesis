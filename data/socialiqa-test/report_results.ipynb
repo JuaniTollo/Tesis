{
 "cells": [
  {
   "cell_type": "code",
   "execution_count": 1,
   "metadata": {},
   "outputs": [],
   "source": [
    "import numpy as np"
   ]
  },
  {
   "cell_type": "code",
   "execution_count": 3,
   "metadata": {},
   "outputs": [],
   "source": [
    "res = np.load(\"phi 2/test_all_targets.npy\")"
   ]
  },
  {
   "cell_type": "code",
   "execution_count": 7,
   "metadata": {},
   "outputs": [
    {
     "name": "stderr",
     "output_type": "stream",
     "text": [
      "Special tokens have been added in the vocabulary, make sure the associated word embeddings are fine-tuned or trained.\n"
     ]
    },
    {
     "name": "stdout",
     "output_type": "stream",
     "text": [
      " C B C A B B B C A A A C C A B A C C B B C C A C A A A A C B C A B A C A A B C B B A A A C A C B A B A A C C C B A A C A B C B B B B B B A A C A A B B B B A A B B C C C B C B B C B A A A A C C B B B B A B A B A A A A B C B B B B B A C A C B A C A B B C C B C A C B C C A B C C C C A C C C B B B C C A A A B C C A A C B B A C B A A B C A B C A C C C A A C C A C B A C C C B B C B C B A B A A C B A B B B A B A C B A B C A C C C B A A C C B C B A A B C C A B B B A C B C B A A A B B C C C B B A C B C A C C B A A A B B A C B A C B C A A B B B C C A B B C C A A A A A B A C C B B A B A B C A A C A C A C B B B B B B B A B A C C C B C B A B A C B C A B C B C B B A C C A A C A B A B B A B C C C C B A B C A C C A B B A B B A A B B C A A A C B B B C C A C A B C C C B A C C A C B A B B C C B B B C A A B C C A A A C C A A A A C C C B C C C C B C A B C C A C C A B A A B B B A C C C C A B B C A C A B C A A A B A B B B C A C C A C B B C B A B A B A A B A B A B A B B A B A C B B A B B A B C B A B B A A A B A A B C A B C B A B C B C B A A C A C C A B B A A C C A A A C B B A A A C C A B A A C C B B A B C A B B C C A C B C A A B C C B B C A C C C C C B C C A A A A B C C A A A B B C C A C A C A B A B A C C B A A B B B B A A B B A A C A A C C A B C A B A C B C C B A A A A A C B C A B A B C A C C B B B B B C C C B B C B B C A A B B B A C C A B B A B A A C A B B B C A A C A C C C B A A A C A C B B A C B B C B A B B B C A C B C C A B A C C B C B A B A B C B C C B C A A A B A B A A B A A B A C C B A B B B B A B B A B C A A C B B B A B C B B A C B B C B C B C C A C A B C A C C C B B B C C A C C C C A A B A B C A B C B C B A C B B C B C B A B B B A B A A B A C C C B A C A B A A B B C A A C B C C B C B A B B C B B B A A A B A A B B C A A B C A A C A B A B A C B A B B C B B C B A C C C C C C A C C B B A B B C C A B C A C C A B A A C A B A A C B B C A C B A B A B A C B B A B A C C A C B C C C B A A C C C C C A A A C A C A A C A B C A C B B B C A C C C C B C B C B A A A B B A C C A B C A A C C A C C B A B A A B B A B C B A C A A B A A C A B C A B C A C C C C C C C B A A C B A A A B B B B C B A B A A C A B C B A A B B B C A B C B A C C C B B B A A B B A C C C A B A B C C B C B A C A C B A B B C C B B C B B A A B A A C C B B B A B C B A A A C B C B C C A B A C A C A B C B C B C C C A A C B B A C A B B B B C B A A B B A C B B A B A C B B C C C B C B C A A C A A B A A C B B B C C A C C C A B B C B B A C A A B B C A B A B B B C B B A C B B C C B C C A B B C B A B B C C C B A C A A A A B A C C B B A A B B C C C C C A C C C C C C A C A C B A C A B A B C B B A A A A C C B B C C C A B A A B B B A C B B B A B A B A A C A C B A B C B C A C B A A A B A A B C B B C C A A B C B C A C C C C A A C C A A A B C A B A A B A A C C A A C B A C B C A B A C A A C B B B C A C B B B C C C A A A C C B B C B A A C B A C B B C A A C C C C B A B C A B B B B B C B B C A C B C B C B A A A B B C A A B C C C B A C B B B B B C A B B A A A A C C C C C C C A A C C C C A C B C B B B C B B B A B B A A A C B C A B C C C C B B A B C A B B C A B A C B C B C A C C C A B A C A A A B B B B C B A B B C B A B B B C C B C C C C A B B B B C A B A C A B B A C A B B A B B B A A B C B B B A A A B A A A A A C C C C A C C C B C C A B A C B A A A C A C A B B C B B C A C B A A B C A A B A A C B B B B B A A C A A A B B A B B B B A C B B B C A A C A B C A C C A B B C A A C A A A C B C B B B A C B B C B B A A B C B C B C C B A C A C C B B B C A A C A C B A A A B C A A B A A B A B C A C A C A C B B A B A B A A C B B C B A B A B B C B A C A C C A A C B B B C A A C A A C C A C B B B C B C C B C C A A A C A B A B A B C A C B A A A C A A A A B A B B A B C B A B A C A A A B B B B C B C A B B A B A B C A C A A C A B B A A A A C B A A A C B A B B C A A B B B C A A C B C A A B A B C C C B A B A B C A B A B A C B A A A C B A C A C C A A A B A A A C A B B C A A C B A B C A A C B B A C C B C C A A C A B B C A B C B A B C C B C A B B C B A A B C A A C C B B A C B A B C A A A A A A B A A C A B A A C C A B B A C A B A C C B C A A A C C B C B C C A A B A B C B A C B B C A A B A C C B B B B A B C C A B A A C A B C A C B C B A C A C B\n"
     ]
    }
   ],
   "source": [
    "from transformers import AutoTokenizer\n",
    "\n",
    "# Load the tokenizer\n",
    "model_checkpoint = \"tokenizer\"\n",
    "tokenizer = AutoTokenizer.from_pretrained(model_checkpoint)\n",
    "\n",
    "# Decode token IDs to text\n",
    "decoded_text = tokenizer.decode(res)\n",
    "\n",
    "print(decoded_text)"
   ]
  },
  {
   "cell_type": "code",
   "execution_count": 6,
   "metadata": {},
   "outputs": [
    {
     "data": {
      "text/plain": [
       "str"
      ]
     },
     "execution_count": 6,
     "metadata": {},
     "output_type": "execute_result"
    }
   ],
   "source": [
    "type(decoded_text)"
   ]
  },
  {
   "cell_type": "code",
   "execution_count": 11,
   "metadata": {},
   "outputs": [],
   "source": [
    "import csv\n",
    "# Replace A, B, C with 1, 2, 3\n",
    "modified_text = decoded_text.replace('A', '1').replace('B', '2').replace('C', '3')\n",
    "\n",
    "# Split the modified text into individual characters\n",
    "characters = list(modified_text)\n",
    "\n",
    "# Write each character to a different line in a CSV file\n",
    "with open('output.csv', 'w', newline='') as csvfile:\n",
    "    writer = csv.writer(csvfile)\n",
    "    for char in characters:\n",
    "        if char in ['1', '2', '3']:  # Only write lines for 1, 2, 3\n",
    "            writer.writerow([char])"
   ]
  },
  {
   "cell_type": "code",
   "execution_count": null,
   "metadata": {},
   "outputs": [],
   "source": []
  }
 ],
 "metadata": {
  "kernelspec": {
   "display_name": "Python 3",
   "language": "python",
   "name": "python3"
  },
  "language_info": {
   "codemirror_mode": {
    "name": "ipython",
    "version": 3
   },
   "file_extension": ".py",
   "mimetype": "text/x-python",
   "name": "python",
   "nbconvert_exporter": "python",
   "pygments_lexer": "ipython3",
   "version": "3.11.8"
  }
 },
 "nbformat": 4,
 "nbformat_minor": 2
}
